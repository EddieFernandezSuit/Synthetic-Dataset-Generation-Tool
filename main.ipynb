{
 "cells": [
  {
   "cell_type": "code",
   "execution_count": null,
   "id": "653f7157",
   "metadata": {
    "vscode": {
     "languageId": "plaintext"
    }
   },
   "outputs": [],
   "source": [
    "# Master Script for the project\n",
    "# from stl_png_loop import rotation\n",
    "from stl_png_loop_tilt import rotation_tilt\n",
    "from tran_png import transparent_overlayimg\n",
    "from overlay_img import overlayimg_make\n",
    "import time\n",
    "\n",
    "st = time.time()\n",
    "# Running Loop Script\n",
    "filename = 'airplane.stl'\n",
    "deg = 90\n",
    "# rotation(filename,deg)\n",
    "rotation_tilt(filename,deg)\n",
    "\n",
    "# Genreating Transperent Overlay Images\n",
    "object_dim = [40,40]\n",
    "transparent_overlayimg(object_dim)\n",
    "\n",
    "# Paste Transperent Overlay on Satilite Imagery\n",
    "offset = 5\n",
    "flag_rect = True\n",
    "overlayimg_make(offset,flag_rect)\n",
    "\n",
    "\n",
    "\n",
    "# get the end time\n",
    "et = time.time()\n",
    "# get the execution time\n",
    "elapsed_time = et - st\n",
    "print('\\nExecution time:', round(elapsed_time,2), 'seconds')"
   ]
  }
 ],
 "metadata": {
  "language_info": {
   "name": "python"
  }
 },
 "nbformat": 4,
 "nbformat_minor": 5
}
